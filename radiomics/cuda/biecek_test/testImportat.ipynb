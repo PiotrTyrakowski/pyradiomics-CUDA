{
 "cells": [
  {
   "cell_type": "code",
   "execution_count": 1,
   "metadata": {},
   "outputs": [],
   "source": [
    "# import radiomics\n",
    "# import logging\n",
    "# radiomics.setVerbosity(logging.DEBUG)\n",
    "# import os\n",
    "# os.environ['BUILD_CUDA_EXTENSIONS'] = '1'\n",
    "\n",
    "# Set CUDA architecture flags for compute capability 6.0 or higher (Pascal, Volta, Turing, Ampere, etc.)\n",
    "# os.environ['NVCC_FLAGS'] = '-gencode=arch=compute_60,code=sm_60 -gencode=arch=compute_70,code=sm_70 -gencode=arch=compute_75,code=sm_75 -gencode=arch=compute_80,code=sm_80'"
   ]
  },
  {
   "cell_type": "code",
   "execution_count": 2,
   "metadata": {},
   "outputs": [],
   "source": [
    "LABEL_MAPPING = {\n",
    "    1: \"aorta\",\n",
    "    2: \"left_lung\",\n",
    "    3: \"right_lung\",\n",
    "    4: \"trachea\",\n",
    "    5: \"pulmonary_artery\",\n",
    "}\n",
    "MASK_PATH = \"./masks.nii.gz\"\n",
    "SCAN_PATH = \"./scan.nii.gz\"\n",
    "CONFIG_PATH = \"./extractor_config.json\""
   ]
  },
  {
   "cell_type": "code",
   "execution_count": 3,
   "metadata": {
    "jupyter": {
     "is_executing": true
    }
   },
   "outputs": [
    {
     "name": "stdout",
     "output_type": "stream",
     "text": [
      "Requirement already satisfied: numpy in ./.venv/lib/python3.10/site-packages (from -r requirements.txt (line 1)) (2.2.4)\n",
      "Requirement already satisfied: SimpleITK in ./.venv/lib/python3.10/site-packages (from -r requirements.txt (line 2)) (2.4.1)\n",
      "Requirement already satisfied: PyWavelets in ./.venv/lib/python3.10/site-packages (from -r requirements.txt (line 3)) (1.8.0)\n",
      "Requirement already satisfied: pykwalify in ./.venv/lib/python3.10/site-packages (from -r requirements.txt (line 4)) (1.8.0)\n",
      "Requirement already satisfied: six in ./.venv/lib/python3.10/site-packages (from -r requirements.txt (line 5)) (1.17.0)\n",
      "Requirement already satisfied: python-dateutil>=2.8.0 in ./.venv/lib/python3.10/site-packages (from pykwalify->-r requirements.txt (line 4)) (2.9.0.post0)\n",
      "Requirement already satisfied: docopt>=0.6.2 in ./.venv/lib/python3.10/site-packages (from pykwalify->-r requirements.txt (line 4)) (0.6.2)\n",
      "Requirement already satisfied: ruamel.yaml>=0.16.0 in ./.venv/lib/python3.10/site-packages (from pykwalify->-r requirements.txt (line 4)) (0.18.10)\n",
      "Requirement already satisfied: ruamel.yaml.clib>=0.2.7 in ./.venv/lib/python3.10/site-packages (from ruamel.yaml>=0.16.0->pykwalify->-r requirements.txt (line 4)) (0.2.12)\n",
      "\u001b[33mWARNING: There was an error checking the latest version of pip.\u001b[0m\u001b[33m\n",
      "\u001b[0mProcessing /home/Jlisowskyy/Storage/Repos/pyradiomics-CUDA\n",
      "  Installing build dependencies ... \u001b[?25ldone\n",
      "\u001b[?25h  Getting requirements to build wheel ... \u001b[?25ldone\n",
      "\u001b[?25h  Preparing metadata (pyproject.toml) ... \u001b[?25ldone\n",
      "\u001b[?25hRequirement already satisfied: pykwalify in ./.venv/lib/python3.10/site-packages (from pyradiomics==3.1.1) (1.8.0)\n",
      "Requirement already satisfied: six in ./.venv/lib/python3.10/site-packages (from pyradiomics==3.1.1) (1.17.0)\n",
      "Requirement already satisfied: PyWavelets in ./.venv/lib/python3.10/site-packages (from pyradiomics==3.1.1) (1.8.0)\n",
      "Requirement already satisfied: SimpleITK in ./.venv/lib/python3.10/site-packages (from pyradiomics==3.1.1) (2.4.1)\n",
      "Requirement already satisfied: numpy in ./.venv/lib/python3.10/site-packages (from pyradiomics==3.1.1) (2.2.4)\n",
      "Requirement already satisfied: python-dateutil>=2.8.0 in ./.venv/lib/python3.10/site-packages (from pykwalify->pyradiomics==3.1.1) (2.9.0.post0)\n",
      "Requirement already satisfied: docopt>=0.6.2 in ./.venv/lib/python3.10/site-packages (from pykwalify->pyradiomics==3.1.1) (0.6.2)\n",
      "Requirement already satisfied: ruamel.yaml>=0.16.0 in ./.venv/lib/python3.10/site-packages (from pykwalify->pyradiomics==3.1.1) (0.18.10)\n",
      "Requirement already satisfied: ruamel.yaml.clib>=0.2.7 in ./.venv/lib/python3.10/site-packages (from ruamel.yaml>=0.16.0->pykwalify->pyradiomics==3.1.1) (0.2.12)\n",
      "Building wheels for collected packages: pyradiomics\n",
      "  Building wheel for pyradiomics (pyproject.toml) ... \u001b[?25ldone\n",
      "\u001b[?25h  Created wheel for pyradiomics: filename=pyradiomics-3.1.1-cp310-cp310-linux_x86_64.whl size=325393 sha256=5c3d339f8cbd2ce00b7325b6d218a3221b140aed0b520bd1447d95a1981f1bc4\n",
      "  Stored in directory: /tmp/pip-ephem-wheel-cache-bnwptdrf/wheels/e8/f1/db/cf7879603dfcc6eeb5c5da561d2974d85e8e32e051b2e93ae6\n",
      "Successfully built pyradiomics\n",
      "Installing collected packages: pyradiomics\n",
      "  Attempting uninstall: pyradiomics\n",
      "    Found existing installation: pyradiomics 3.1.1\n",
      "    Uninstalling pyradiomics-3.1.1:\n",
      "      Successfully uninstalled pyradiomics-3.1.1\n",
      "Successfully installed pyradiomics-3.1.1\n",
      "\n",
      "\u001b[1m[\u001b[0m\u001b[34;49mnotice\u001b[0m\u001b[1;39;49m]\u001b[0m\u001b[39;49m A new release of pip is available: \u001b[0m\u001b[31;49m23.0.1\u001b[0m\u001b[39;49m -> \u001b[0m\u001b[32;49m25.0.1\u001b[0m\n",
      "\u001b[1m[\u001b[0m\u001b[34;49mnotice\u001b[0m\u001b[1;39;49m]\u001b[0m\u001b[39;49m To update, run: \u001b[0m\u001b[32;49mpip install --upgrade pip\u001b[0m\n",
      "/home/Jlisowskyy/Storage/Repos/pyradiomics-CUDA/.venv/lib/python3.10/site-packages/setuptools/config/_apply_pyprojecttoml.py:196: UserWarning: `install_requires` overwritten in `pyproject.toml` (dependencies)\n",
      "  warnings.warn(msg)\n",
      "running build_ext\n",
      "Compiling radiomics/src/cuda/cshape.cu with nvcc: /opt/cuda/bin/nvcc -c radiomics/src/cuda/cshape.cu -o build/temp.linux-x86_64-cpython-310/radiomics._cshape/cshape.o -I /usr/include/python3.10 -I /home/Jlisowskyy/Storage/Repos/pyradiomics-CUDA/.venv/lib/python3.10/site-packages/numpy/_core/include -I radiomics/src/cuda -I /home/Jlisowskyy/Storage/Repos/pyradiomics-CUDA/.venv/include -I /usr/include/python3.10 -Xcompiler=-fPIC -O0 -g -G\n",
      "Compiling radiomics/src/cuda/implementations/diameter_change_implementation.cu with nvcc: /opt/cuda/bin/nvcc -c radiomics/src/cuda/implementations/diameter_change_implementation.cu -o build/temp.linux-x86_64-cpython-310/radiomics._cshape/diameter_change_implementation.o -I /usr/include/python3.10 -I /home/Jlisowskyy/Storage/Repos/pyradiomics-CUDA/.venv/lib/python3.10/site-packages/numpy/_core/include -I radiomics/src/cuda -I /home/Jlisowskyy/Storage/Repos/pyradiomics-CUDA/.venv/include -I /usr/include/python3.10 -Xcompiler=-fPIC -O0 -g -G\n",
      "Compiling radiomics/src/cuda/implementations/basic_implementation.cu with nvcc: /opt/cuda/bin/nvcc -c radiomics/src/cuda/implementations/basic_implementation.cu -o build/temp.linux-x86_64-cpython-310/radiomics._cshape/basic_implementation.o -I /usr/include/python3.10 -I /home/Jlisowskyy/Storage/Repos/pyradiomics-CUDA/.venv/lib/python3.10/site-packages/numpy/_core/include -I radiomics/src/cuda -I /home/Jlisowskyy/Storage/Repos/pyradiomics-CUDA/.venv/include -I /usr/include/python3.10 -Xcompiler=-fPIC -O0 -g -G\n",
      "copying build/lib.linux-x86_64-cpython-310/radiomics/_cmatrices.cpython-310-x86_64-linux-gnu.so -> radiomics\n",
      "copying build/lib.linux-x86_64-cpython-310/radiomics/_cshape.cpython-310-x86_64-linux-gnu.so -> radiomics\n"
     ]
    }
   ],
   "source": [
    "\n",
    "import os\n",
    "import logging\n",
    "os.environ['BUILD_CUDA_EXTENSIONS'] = '1'\n",
    "!python3.10 -m pip install -r requirements.txt\n",
    "# !python3.10 setup.py install\n",
    "!python3.10 -m     pip install . --no-cache-dir\n",
    "!python3.10 setup.py build_ext --inplace\n",
    "\n",
    "from __future__ import print_function\n",
    "import sys\n",
    "import os\n",
    "import logging\n",
    "import six\n"
   ]
  },
  {
   "cell_type": "code",
   "execution_count": 4,
   "metadata": {},
   "outputs": [
    {
     "name": "stdout",
     "output_type": "stream",
     "text": [
      "Current working directory: /home/Jlisowskyy/Storage/Repos/pyradiomics-CUDA\n",
      "Current working directory after change: /home/Jlisowskyy/Storage/Repos/pyradiomics-CUDA/radiomics/cuda/biecek_test\n",
      "Files in current directory: ['.gitignore', 'data', 'masks.nii.gz', '2d_extractor_config.json', 'testImportat.ipynb', 'scan.nii.gz', 'extractor_config.json', '__init__.py']\n"
     ]
    }
   ],
   "source": [
    "from radiomics.featureextractor import RadiomicsFeatureExtractor\n",
    "\n",
    "import os\n",
    "print(\"Current working directory:\", os.getcwd())\n",
    "os.chdir('radiomics/cuda/biecek_test')\n",
    "print(\"Current working directory after change:\", os.getcwd())\n",
    "print(\"Files in current directory:\", os.listdir())\n"
   ]
  },
  {
   "cell_type": "code",
   "execution_count": 5,
   "metadata": {},
   "outputs": [
    {
     "name": "stdout",
     "output_type": "stream",
     "text": [
      "nvcc: NVIDIA (R) Cuda compiler driver\n",
      "Copyright (c) 2005-2025 NVIDIA Corporation\n",
      "Built on Fri_Feb_21_20:23:50_PST_2025\n",
      "Cuda compilation tools, release 12.8, V12.8.93\n",
      "Build cuda_12.8.r12.8/compiler.35583870_0\n"
     ]
    }
   ],
   "source": [
    "!nvcc --version"
   ]
  },
  {
   "cell_type": "code",
   "execution_count": 6,
   "metadata": {},
   "outputs": [],
   "source": [
    "extractor = RadiomicsFeatureExtractor()\n",
    "extractor.loadParams(CONFIG_PATH)"
   ]
  },
  {
   "cell_type": "code",
   "execution_count": 7,
   "metadata": {},
   "outputs": [
    {
     "name": "stdout",
     "output_type": "stream",
     "text": [
      "Shape features successfully written to data/2025-04-05_15-46-30\n",
      "Shape features successfully written to data/2025-04-05_15-46-33\n",
      "Shape features successfully written to data/2025-04-05_15-46-37\n",
      "Shape features successfully written to data/2025-04-05_15-46-37\n",
      "Shape features successfully written to data/2025-04-05_15-46-38\n"
     ]
    }
   ],
   "source": [
    "features = {}\n",
    "for val, name in LABEL_MAPPING.items():\n",
    "    features[name] = extractor.execute(SCAN_PATH, MASK_PATH, val)\n",
    "    "
   ]
  },
  {
   "cell_type": "code",
   "execution_count": 8,
   "metadata": {},
   "outputs": [],
   "source": [
    "# print(features)"
   ]
  },
  {
   "cell_type": "code",
   "execution_count": 9,
   "metadata": {},
   "outputs": [
    {
     "name": "stdout",
     "output_type": "stream",
     "text": [
      "Directories in data folder: ['2025-04-05_15-46-33', '2025-04-05_15-45-18', '2025-04-05_15-46-37', '2025-04-05_15-45-14', '2025-04-05_15-46-38', '2025-04-05_15-45-11', '2025-04-05_15-45-17', '2025-04-05_15-46-30']\n"
     ]
    }
   ],
   "source": [
    "# print(\"Files in current directory:\", os.listdir())\n",
    "print(\"Directories in data folder:\", [d for d in os.listdir('data') if os.path.isdir(os.path.join('data', d))])"
   ]
  },
  {
   "cell_type": "code",
   "execution_count": 14,
   "metadata": {},
   "outputs": [
    {
     "name": "stdout",
     "output_type": "stream",
     "text": [
      "dsa'\n",
      "Shape features successfully loaded from data/2025-04-05_15-45-17\n",
      "{'surface_area': 195077.26872221503, 'volume': 3140325.2033796296, 'diameters': (212.94957930569598, 275.2005684571434, 275.011874179351, 282.60001162203895), 'pixel_spacing': array([2.        , 0.66500002, 0.66500002]), 'mask_array': array([[[False, False, False, ..., False, False, False],\n",
      "        [False, False, False, ..., False, False, False],\n",
      "        [False, False, False, ..., False, False, False],\n",
      "        ...,\n",
      "        [False, False, False, ..., False, False, False],\n",
      "        [False, False, False, ..., False, False, False],\n",
      "        [False, False, False, ..., False, False, False]],\n",
      "\n",
      "       [[False, False, False, ..., False, False, False],\n",
      "        [False, False, False, ..., False, False, False],\n",
      "        [False, False, False, ..., False, False, False],\n",
      "        ...,\n",
      "        [False, False, False, ..., False, False, False],\n",
      "        [False, False, False, ..., False, False, False],\n",
      "        [False, False, False, ..., False, False, False]],\n",
      "\n",
      "       [[False, False, False, ..., False, False, False],\n",
      "        [False, False, False, ..., False, False, False],\n",
      "        [False, False, False, ..., False, False, False],\n",
      "        ...,\n",
      "        [False, False, False, ..., False, False, False],\n",
      "        [False, False, False, ..., False, False, False],\n",
      "        [False, False, False, ..., False, False, False]],\n",
      "\n",
      "       ...,\n",
      "\n",
      "       [[False, False, False, ..., False, False, False],\n",
      "        [False, False, False, ..., False, False, False],\n",
      "        [False, False, False, ..., False, False, False],\n",
      "        ...,\n",
      "        [False, False, False, ..., False, False, False],\n",
      "        [False, False, False, ..., False, False, False],\n",
      "        [False, False, False, ..., False, False, False]],\n",
      "\n",
      "       [[False, False, False, ..., False, False, False],\n",
      "        [False, False, False, ..., False, False, False],\n",
      "        [False, False, False, ..., False, False, False],\n",
      "        ...,\n",
      "        [False, False, False, ..., False, False, False],\n",
      "        [False, False, False, ..., False, False, False],\n",
      "        [False, False, False, ..., False, False, False]],\n",
      "\n",
      "       [[False, False, False, ..., False, False, False],\n",
      "        [False, False, False, ..., False, False, False],\n",
      "        [False, False, False, ..., False, False, False],\n",
      "        ...,\n",
      "        [False, False, False, ..., False, False, False],\n",
      "        [False, False, False, ..., False, False, False],\n",
      "        [False, False, False, ..., False, False, False]]],\n",
      "      shape=(137, 315, 239))}\n"
     ]
    }
   ],
   "source": [
    "from radiomics.cuda.helpers.shape_class_handlers import load_shape_class\n",
    "\n",
    "\n",
    "d = load_shape_class('2025-04-05_15-45-17')\n",
    "print(d)"
   ]
  },
  {
   "cell_type": "code",
   "execution_count": 15,
   "metadata": {},
   "outputs": [
    {
     "name": "stdout",
     "output_type": "stream",
     "text": [
      "195077.2687222171 3140325.2033796813 (212.94957930569598, 275.2005684571434, 275.011874179351, 282.60001162203895)\n"
     ]
    }
   ],
   "source": [
    "# print(d)\n",
    "from radiomics import  cShape\n",
    "\n",
    "a, b, c = cShape.calculate_coefficients(d['mask_array'], d['pixel_spacing'])\n",
    "print(a, b, c)\n"
   ]
  }
 ],
 "metadata": {
  "kernelspec": {
   "display_name": "Python 3 (ipykernel)",
   "language": "python",
   "name": "python3"
  },
  "language_info": {
   "codemirror_mode": {
    "name": "ipython",
    "version": 3
   },
   "file_extension": ".py",
   "mimetype": "text/x-python",
   "name": "python",
   "nbconvert_exporter": "python",
   "pygments_lexer": "ipython3",
   "version": "3.10.16"
  }
 },
 "nbformat": 4,
 "nbformat_minor": 2
}
