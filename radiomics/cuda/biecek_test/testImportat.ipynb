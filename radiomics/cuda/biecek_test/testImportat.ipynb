{
 "cells": [
  {
   "cell_type": "code",
   "execution_count": 6,
   "metadata": {},
   "outputs": [],
   "source": [
    "# import radiomics\n",
    "# import logging\n",
    "# radiomics.setVerbosity(logging.DEBUG)\n",
    "# import os\n",
    "# os.environ['BUILD_CUDA_EXTENSIONS'] = '1'\n",
    "\n",
    "# Set CUDA architecture flags for compute capability 6.0 or higher (Pascal, Volta, Turing, Ampere, etc.)\n",
    "# os.environ['NVCC_FLAGS'] = '-gencode=arch=compute_60,code=sm_60 -gencode=arch=compute_70,code=sm_70 -gencode=arch=compute_75,code=sm_75 -gencode=arch=compute_80,code=sm_80'"
   ]
  },
  {
   "cell_type": "code",
   "execution_count": 1,
   "metadata": {},
   "outputs": [],
   "source": [
    "LABEL_MAPPING = {\n",
    "    1: \"aorta\",\n",
    "    2: \"left_lung\",\n",
    "    3: \"right_lung\",\n",
    "    4: \"trachea\",\n",
    "    5: \"pulmonary_artery\",\n",
    "}\n",
    "MASK_PATH = \"./masks.nii.gz\"\n",
    "SCAN_PATH = \"./scan.nii.gz\"\n",
    "CONFIG_PATH = \"./extractor_config.json\""
   ]
  },
  {
   "cell_type": "code",
   "execution_count": 2,
   "metadata": {},
   "outputs": [
    {
     "name": "stdout",
     "output_type": "stream",
     "text": [
      "Defaulting to user installation because normal site-packages is not writeable\n",
      "Requirement already satisfied: numpy in /home/verscup/.local/lib/python3.10/site-packages (from -r requirements.txt (line 1)) (2.2.4)\n",
      "Requirement already satisfied: SimpleITK in /home/verscup/.local/lib/python3.10/site-packages (from -r requirements.txt (line 2)) (2.4.1)\n",
      "Requirement already satisfied: PyWavelets in /home/verscup/.local/lib/python3.10/site-packages (from -r requirements.txt (line 3)) (1.8.0)\n",
      "Requirement already satisfied: pykwalify in /home/verscup/.local/lib/python3.10/site-packages (from -r requirements.txt (line 4)) (1.8.0)\n",
      "Requirement already satisfied: six in /usr/lib/python3/dist-packages (from -r requirements.txt (line 5)) (1.16.0)\n",
      "Requirement already satisfied: docopt>=0.6.2 in /home/verscup/.local/lib/python3.10/site-packages (from pykwalify->-r requirements.txt (line 4)) (0.6.2)\n",
      "Requirement already satisfied: python-dateutil>=2.8.0 in /usr/lib/python3/dist-packages (from pykwalify->-r requirements.txt (line 4)) (2.8.2)\n",
      "Requirement already satisfied: ruamel.yaml>=0.16.0 in /home/verscup/.local/lib/python3.10/site-packages (from pykwalify->-r requirements.txt (line 4)) (0.18.10)\n",
      "Requirement already satisfied: ruamel.yaml.clib>=0.2.7 in /home/verscup/.local/lib/python3.10/site-packages (from ruamel.yaml>=0.16.0->pykwalify->-r requirements.txt (line 4)) (0.2.12)\n",
      "Defaulting to user installation because normal site-packages is not writeable\n",
      "Processing /home/verscup/pyradiomics-CUDA\n",
      "  Installing build dependencies ... \u001b[?25ldone\n",
      "\u001b[?25h  Getting requirements to build wheel ... \u001b[?25ldone\n",
      "\u001b[?25h  Preparing metadata (pyproject.toml) ... \u001b[?25ldone\n",
      "\u001b[?25hRequirement already satisfied: numpy in /home/verscup/.local/lib/python3.10/site-packages (from pyradiomics==3.1.1) (2.2.4)\n",
      "Requirement already satisfied: SimpleITK in /home/verscup/.local/lib/python3.10/site-packages (from pyradiomics==3.1.1) (2.4.1)\n",
      "Requirement already satisfied: PyWavelets in /home/verscup/.local/lib/python3.10/site-packages (from pyradiomics==3.1.1) (1.8.0)\n",
      "Requirement already satisfied: pykwalify in /home/verscup/.local/lib/python3.10/site-packages (from pyradiomics==3.1.1) (1.8.0)\n",
      "Requirement already satisfied: six in /usr/lib/python3/dist-packages (from pyradiomics==3.1.1) (1.16.0)\n",
      "Requirement already satisfied: docopt>=0.6.2 in /home/verscup/.local/lib/python3.10/site-packages (from pykwalify->pyradiomics==3.1.1) (0.6.2)\n",
      "Requirement already satisfied: python-dateutil>=2.8.0 in /usr/lib/python3/dist-packages (from pykwalify->pyradiomics==3.1.1) (2.8.2)\n",
      "Requirement already satisfied: ruamel.yaml>=0.16.0 in /home/verscup/.local/lib/python3.10/site-packages (from pykwalify->pyradiomics==3.1.1) (0.18.10)\n",
      "Requirement already satisfied: ruamel.yaml.clib>=0.2.7 in /home/verscup/.local/lib/python3.10/site-packages (from ruamel.yaml>=0.16.0->pykwalify->pyradiomics==3.1.1) (0.2.12)\n",
      "Building wheels for collected packages: pyradiomics\n",
      "  Building wheel for pyradiomics (pyproject.toml) ... \u001b[?25ldone\n",
      "\u001b[?25h  Created wheel for pyradiomics: filename=pyradiomics-3.1.1-cp310-cp310-linux_x86_64.whl size=218390 sha256=827760ebe6a564d1fd9acb36054a65d1c546e5d148ef6cdfe8c7cd07305e251c\n",
      "  Stored in directory: /tmp/pip-ephem-wheel-cache-1mxg6uv2/wheels/00/8f/1f/22ad624e1c1e550a68cb0809a32f71abd715c39d520dc48157\n",
      "Successfully built pyradiomics\n",
      "Installing collected packages: pyradiomics\n",
      "  Attempting uninstall: pyradiomics\n",
      "    Found existing installation: pyradiomics 3.1.1\n",
      "    Uninstalling pyradiomics-3.1.1:\n",
      "      Successfully uninstalled pyradiomics-3.1.1\n",
      "Successfully installed pyradiomics-3.1.1\n",
      "BUILD_CUDA_EXTENSIONS=1 found. Attempting to include CUDA extensions.\n",
      "Found nvcc at: /usr/bin/nvcc\n",
      "Found CUDA library directory based on nvcc path: /usr/lib64\n",
      "NVCC_FLAGS environment variable not set or empty. Using default nvcc options.\n",
      "/home/verscup/.local/lib/python3.10/site-packages/setuptools/config/_apply_pyprojecttoml.py:79: SetuptoolsWarning: `install_requires` overwritten in `pyproject.toml` (dependencies)\n",
      "  corresp(dist, value, root_dir)\n",
      "running build_ext\n",
      "Found nvcc at: /usr/bin/nvcc\n",
      "Pre-compiling CUDA sources for extension radiomics.cuda._cshape...\n",
      "Running nvcc command: /usr/bin/nvcc -c radiomics/src/cuda/cshape.cu -o build/temp.linux-x86_64-cpython-310/radiomics.cuda._cshape/cshape.o -I /usr/include/python3.10 -I /home/verscup/.local/lib/python3.10/site-packages/numpy/_core/include -I radiomics/src/cuda -I /usr/include/python3.10 -Xcompiler=-fPIC\n",
      "Proceeding with standard build process for remaining sources and linking...\n",
      "copying build/lib.linux-x86_64-cpython-310/radiomics/_cmatrices.cpython-310-x86_64-linux-gnu.so -> radiomics\n",
      "copying build/lib.linux-x86_64-cpython-310/radiomics/_cshape.cpython-310-x86_64-linux-gnu.so -> radiomics\n",
      "copying build/lib.linux-x86_64-cpython-310/radiomics/cuda/_cshape.cpython-310-x86_64-linux-gnu.so -> radiomics/cuda\n"
     ]
    }
   ],
   "source": [
    "\n",
    "import os\n",
    "import logging\n",
    "os.environ['BUILD_CUDA_EXTENSIONS'] = '1'\n",
    "!python3.10 -m pip install -r requirements.txt\n",
    "# !python3.10 setup.py install\n",
    "!python3.10 -m     pip install . --no-cache-dir\n",
    "!python3.10 setup.py build_ext --inplace\n",
    "\n",
    "from __future__ import print_function\n",
    "import sys\n",
    "import os\n",
    "import logging\n",
    "import six\n"
   ]
  },
  {
   "cell_type": "code",
   "execution_count": 3,
   "metadata": {},
   "outputs": [
    {
     "name": "stdout",
     "output_type": "stream",
     "text": [
      "nvcc: NVIDIA (R) Cuda compiler driver\n",
      "Copyright (c) 2005-2023 NVIDIA Corporation\n",
      "Built on Fri_Jan__6_16:45:21_PST_2023\n",
      "Cuda compilation tools, release 12.0, V12.0.140\n",
      "Build cuda_12.0.r12.0/compiler.32267302_0\n"
     ]
    }
   ],
   "source": [
    "!nvcc --version"
   ]
  },
  {
   "cell_type": "code",
   "execution_count": 3,
   "metadata": {},
   "outputs": [
    {
     "name": "stdout",
     "output_type": "stream",
     "text": [
      "Checking GPU availability...\n",
      "NVIDIA GPU not found via nvidia-smi.\n",
      "CUDA Toolkit (nvcc) found.\n",
      "GPU Availability Check Result: False (GPU: False, CUDA Toolkit: True)\n",
      "Current working directory: /home/verscup/pyradiomics-CUDA\n",
      "Current working directory after change: /home/verscup/pyradiomics-CUDA/radiomics/cuda/biecek_test\n",
      "Files in current directory: ['test.py', '.gitignore', 'testImportat.ipynb', 'scan.nii.gz', 'extractor_config.json', 'masks.nii.gz']\n"
     ]
    }
   ],
   "source": [
    "from radiomics.featureextractor import RadiomicsFeatureExtractor\n",
    "import os\n",
    "print(\"Current working directory:\", os.getcwd())\n",
    "os.chdir('radiomics/cuda/biecek_test')\n",
    "print(\"Current working directory after change:\", os.getcwd())\n",
    "print(\"Files in current directory:\", os.listdir())"
   ]
  },
  {
   "cell_type": "code",
   "execution_count": 4,
   "metadata": {},
   "outputs": [],
   "source": [
    "extractor = RadiomicsFeatureExtractor()\n",
    "extractor.loadParams(CONFIG_PATH)"
   ]
  },
  {
   "cell_type": "code",
   "execution_count": 5,
   "metadata": {},
   "outputs": [
    {
     "name": "stdout",
     "output_type": "stream",
     "text": [
      "Shape features successfully written to data/2025-03-30_20-32-22\n",
      "Shape features successfully written to data/2025-03-30_20-33-11\n",
      "Shape features successfully written to data/2025-03-30_20-34-02\n",
      "Shape features successfully written to data/2025-03-30_20-34-03\n",
      "Shape features successfully written to data/2025-03-30_20-34-04\n"
     ]
    }
   ],
   "source": [
    "features = {}\n",
    "for val, name in LABEL_MAPPING.items():\n",
    "    features[name] = extractor.execute(SCAN_PATH, MASK_PATH, val)\n",
    "    "
   ]
  },
  {
   "cell_type": "code",
   "execution_count": 7,
   "metadata": {},
   "outputs": [
    {
     "name": "stdout",
     "output_type": "stream",
     "text": [
      "{'aorta': OrderedDict([('original_shape_MeshVolume', array(275206.40106234)), ('original_shape_VoxelVolume', np.float64(275447.8190758457)), ('original_shape_SurfaceArea', array(49354.19084468)), ('original_shape_SurfaceVolumeRatio', array(0.17933518)), ('original_shape_Maximum3DDiameter', array(245.71126763)), ('original_shape_Maximum2DDiameterSlice', array(130.84456334)), ('original_shape_Maximum2DDiameterColumn', array(240.69384741)), ('original_shape_Maximum2DDiameterRow', array(243.29408152)), ('original_shape_MajorAxisLength', np.float64(224.96165368058996))])}\n"
     ]
    }
   ],
   "source": [
    "# print(features)"
   ]
  },
  {
   "cell_type": "code",
   "execution_count": 7,
   "metadata": {},
   "outputs": [
    {
     "name": "stdout",
     "output_type": "stream",
     "text": [
      "Directories in data folder: ['2025-03-29_22-54-38']\n"
     ]
    }
   ],
   "source": [
    "# print(\"Files in current directory:\", os.listdir())\n",
    "print(\"Directories in data folder:\", [d for d in os.listdir('data') if os.path.isdir(os.path.join('data', d))])"
   ]
  },
  {
   "cell_type": "code",
   "execution_count": 11,
   "metadata": {},
   "outputs": [
    {
     "name": "stdout",
     "output_type": "stream",
     "text": [
      "dsa'\n",
      "Shape features successfully loaded from data/2025-03-29_23-02-27\n",
      "{'surface_area': 49354.19084467997, 'volume': 275206.4010623354, 'diameters': (130.8445633369893, 240.6938474145504, 243.29408152016222, 245.71126763298608), 'pixel_spacing': array([2.        , 0.66500002, 0.66500002]), 'mask_array': array([[[False, False, False, ..., False, False, False],\n",
      "        [False, False, False, ..., False, False, False],\n",
      "        [False, False, False, ..., False, False, False],\n",
      "        ...,\n",
      "        [False, False, False, ..., False, False, False],\n",
      "        [False, False, False, ..., False, False, False],\n",
      "        [False, False, False, ..., False, False, False]],\n",
      "\n",
      "       [[False, False, False, ..., False, False, False],\n",
      "        [False, False, False, ..., False, False, False],\n",
      "        [False, False, False, ..., False, False, False],\n",
      "        ...,\n",
      "        [False, False, False, ..., False, False, False],\n",
      "        [False, False, False, ..., False, False, False],\n",
      "        [False, False, False, ..., False, False, False]],\n",
      "\n",
      "       [[False, False, False, ..., False, False, False],\n",
      "        [False, False, False, ..., False, False, False],\n",
      "        [False, False, False, ..., False, False, False],\n",
      "        ...,\n",
      "        [False, False, False, ..., False, False, False],\n",
      "        [False, False, False, ..., False, False, False],\n",
      "        [False, False, False, ..., False, False, False]],\n",
      "\n",
      "       ...,\n",
      "\n",
      "       [[False, False, False, ..., False, False, False],\n",
      "        [False, False, False, ..., False, False, False],\n",
      "        [False, False, False, ..., False, False, False],\n",
      "        ...,\n",
      "        [False, False, False, ..., False, False, False],\n",
      "        [False, False, False, ..., False, False, False],\n",
      "        [False, False, False, ..., False, False, False]],\n",
      "\n",
      "       [[False, False, False, ..., False, False, False],\n",
      "        [False, False, False, ..., False, False, False],\n",
      "        [False, False, False, ..., False, False, False],\n",
      "        ...,\n",
      "        [False, False, False, ..., False, False, False],\n",
      "        [False, False, False, ..., False, False, False],\n",
      "        [False, False, False, ..., False, False, False]],\n",
      "\n",
      "       [[False, False, False, ..., False, False, False],\n",
      "        [False, False, False, ..., False, False, False],\n",
      "        [False, False, False, ..., False, False, False],\n",
      "        ...,\n",
      "        [False, False, False, ..., False, False, False],\n",
      "        [False, False, False, ..., False, False, False],\n",
      "        [False, False, False, ..., False, False, False]]],\n",
      "      shape=(123, 189, 112))}\n"
     ]
    }
   ],
   "source": [
    "from radiomics.cuda.helpers.shape_class_handlers import load_shape_class\n",
    "\n",
    "\n",
    "d = load_shape_class('2025-03-29_23-02-27')\n",
    "print(d)"
   ]
  },
  {
   "cell_type": "code",
   "execution_count": 9,
   "metadata": {},
   "outputs": [
    {
     "name": "stdout",
     "output_type": "stream",
     "text": [
      "49354.19084467997 275206.4010623354 (130.8445633369893, 240.6938474145504, 243.29408152016222, 245.71126763298608)\n"
     ]
    }
   ],
   "source": [
    "# print(d)\n",
    "from radiomics import  cShape, cShapeCpu\n",
    "\n",
    "a, b, c = cShape.calculate_coefficients(d['mask_array'], d['pixel_spacing'])\n",
    "print(a, b, c)\n"
   ]
  }
 ],
 "metadata": {
  "kernelspec": {
   "display_name": "Python 3 (ipykernel)",
   "language": "python",
   "name": "python3"
  },
  "language_info": {
   "codemirror_mode": {
    "name": "ipython",
    "version": 3
   },
   "file_extension": ".py",
   "mimetype": "text/x-python",
   "name": "python",
   "nbconvert_exporter": "python",
   "pygments_lexer": "ipython3",
   "version": "3.10.16"
  }
 },
 "nbformat": 4,
 "nbformat_minor": 2
}
