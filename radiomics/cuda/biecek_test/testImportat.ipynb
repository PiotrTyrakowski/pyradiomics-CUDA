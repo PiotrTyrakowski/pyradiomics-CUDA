{
 "cells": [
  {
   "cell_type": "code",
   "execution_count": null,
   "metadata": {},
   "outputs": [],
   "source": [
    "# import radiomics\n",
    "# import logging\n",
    "# radiomics.setVerbosity(logging.DEBUG)\n",
    "# import os\n",
    "# os.environ['BUILD_CUDA_EXTENSIONS'] = '1'\n",
    "\n",
    "# Set CUDA architecture flags for compute capability 6.0 or higher (Pascal, Volta, Turing, Ampere, etc.)\n",
    "# os.environ['NVCC_FLAGS'] = '-gencode=arch=compute_60,code=sm_60 -gencode=arch=compute_70,code=sm_70 -gencode=arch=compute_75,code=sm_75 -gencode=arch=compute_80,code=sm_80'"
   ]
  },
  {
   "cell_type": "code",
   "execution_count": null,
   "metadata": {},
   "outputs": [],
   "source": [
    "LABEL_MAPPING = {\n",
    "    1: \"aorta\",\n",
    "    2: \"left_lung\",\n",
    "    3: \"right_lung\",\n",
    "    4: \"trachea\",\n",
    "    5: \"pulmonary_artery\",\n",
    "}\n",
    "MASK_PATH = \"./masks.nii.gz\"\n",
    "SCAN_PATH = \"./scan.nii.gz\"\n",
    "CONFIG_PATH = \"./extractor_config.json\""
   ]
  },
  {
   "cell_type": "code",
   "execution_count": null,
   "metadata": {
    "jupyter": {
     "is_executing": true
    }
   },
   "outputs": [],
   "source": [
    "\n",
    "import os\n",
    "import logging\n",
    "os.environ['BUILD_CUDA_EXTENSIONS'] = '1'\n",
    "!python3.10 -m pip install -r requirements.txt\n",
    "# !python3.10 setup.py install\n",
    "!python3.10 -m     pip install . --no-cache-dir\n",
    "!python3.10 setup.py build_ext --inplace\n",
    "\n",
    "from __future__ import print_function\n",
    "import sys\n",
    "import os\n",
    "import logging\n",
    "import six\n"
   ]
  },
  {
   "cell_type": "code",
   "execution_count": null,
   "metadata": {},
   "outputs": [],
   "source": [
    "!nvcc --version"
   ]
  },
  {
   "cell_type": "code",
   "execution_count": null,
   "metadata": {},
   "outputs": [],
   "source": [
    "import os\n",
    "print(\"Current working directory:\", os.getcwd())\n",
    "os.chdir('radiomics/cuda/biecek_test')\n",
    "print(\"Current working directory after change:\", os.getcwd())\n",
    "print(\"Files in current directory:\", os.listdir())\n",
    "\n",
    "from radiomics.featureextractor import RadiomicsFeatureExtractor"
   ]
  },
  {
   "cell_type": "code",
   "execution_count": null,
   "metadata": {},
   "outputs": [],
   "source": [
    "extractor = RadiomicsFeatureExtractor()\n",
    "extractor.loadParams(CONFIG_PATH)"
   ]
  },
  {
   "cell_type": "code",
   "execution_count": null,
   "metadata": {},
   "outputs": [],
   "source": [
    "features = {}\n",
    "for val, name in LABEL_MAPPING.items():\n",
    "    features[name] = extractor.execute(SCAN_PATH, MASK_PATH, val)\n",
    "    "
   ]
  },
  {
   "cell_type": "code",
   "execution_count": null,
   "metadata": {},
   "outputs": [],
   "source": [
    "# print(features)"
   ]
  },
  {
   "cell_type": "code",
   "execution_count": null,
   "metadata": {},
   "outputs": [],
   "source": [
    "# print(\"Files in current directory:\", os.listdir())\n",
    "print(\"Directories in data folder:\", [d for d in os.listdir('data') if os.path.isdir(os.path.join('data', d))])"
   ]
  },
  {
   "cell_type": "code",
   "execution_count": null,
   "metadata": {},
   "outputs": [],
   "source": [
    "from radiomics.cuda.helpers.shape_class_handlers import load_shape_class\n",
    "\n",
    "\n",
    "d = load_shape_class('2025-03-29_23-02-27')\n",
    "print(d)"
   ]
  },
  {
   "cell_type": "code",
   "execution_count": null,
   "metadata": {},
   "outputs": [],
   "source": [
    "# print(d)\n",
    "from radiomics import  cShape, cShapeCpu\n",
    "\n",
    "a, b, c = cShape.calculate_coefficients(d['mask_array'], d['pixel_spacing'])\n",
    "print(a, b, c)\n"
   ]
  }
 ],
 "metadata": {
  "kernelspec": {
   "display_name": "Python 3 (ipykernel)",
   "language": "python",
   "name": "python3"
  },
  "language_info": {
   "codemirror_mode": {
    "name": "ipython",
    "version": 3
   },
   "file_extension": ".py",
   "mimetype": "text/x-python",
   "name": "python",
   "nbconvert_exporter": "python",
   "pygments_lexer": "ipython3",
   "version": "3.10.16"
  }
 },
 "nbformat": 4,
 "nbformat_minor": 2
}
