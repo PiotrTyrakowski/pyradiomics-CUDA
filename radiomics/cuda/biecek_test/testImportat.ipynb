{
 "cells": [
  {
   "cell_type": "code",
   "execution_count": 1,
   "metadata": {},
   "outputs": [],
   "source": [
    "# import radiomics\n",
    "# import logging\n",
    "# radiomics.setVerbosity(logging.DEBUG)\n",
    "# import os\n",
    "# os.environ['BUILD_CUDA_EXTENSIONS'] = '1'\n",
    "\n",
    "# Set CUDA architecture flags for compute capability 6.0 or higher (Pascal, Volta, Turing, Ampere, etc.)\n",
    "# os.environ['NVCC_FLAGS'] = '-gencode=arch=compute_60,code=sm_60 -gencode=arch=compute_70,code=sm_70 -gencode=arch=compute_75,code=sm_75 -gencode=arch=compute_80,code=sm_80'"
   ]
  },
  {
   "cell_type": "code",
   "execution_count": 2,
   "metadata": {},
   "outputs": [],
   "source": [
    "LABEL_MAPPING = {\n",
    "    1: \"aorta\",\n",
    "    2: \"left_lung\",\n",
    "    3: \"right_lung\",\n",
    "    4: \"trachea\",\n",
    "    5: \"pulmonary_artery\",\n",
    "}\n",
    "MASK_PATH = \"./masks.nii.gz\"\n",
    "SCAN_PATH = \"./scan.nii.gz\"\n",
    "CONFIG_PATH = \"./extractor_config.json\""
   ]
  },
  {
   "cell_type": "code",
   "execution_count": 3,
   "metadata": {
    "jupyter": {
     "is_executing": true
    }
   },
   "outputs": [
    {
     "name": "stdout",
     "output_type": "stream",
     "text": [
      "Requirement already satisfied: numpy in ./.venv/lib/python3.10/site-packages (from -r requirements.txt (line 1)) (2.2.4)\n",
      "Requirement already satisfied: SimpleITK in ./.venv/lib/python3.10/site-packages (from -r requirements.txt (line 2)) (2.4.1)\n",
      "Requirement already satisfied: PyWavelets in ./.venv/lib/python3.10/site-packages (from -r requirements.txt (line 3)) (1.8.0)\n",
      "Requirement already satisfied: pykwalify in ./.venv/lib/python3.10/site-packages (from -r requirements.txt (line 4)) (1.8.0)\n",
      "Requirement already satisfied: six in ./.venv/lib/python3.10/site-packages (from -r requirements.txt (line 5)) (1.17.0)\n",
      "Requirement already satisfied: python-dateutil>=2.8.0 in ./.venv/lib/python3.10/site-packages (from pykwalify->-r requirements.txt (line 4)) (2.9.0.post0)\n",
      "Requirement already satisfied: ruamel.yaml>=0.16.0 in ./.venv/lib/python3.10/site-packages (from pykwalify->-r requirements.txt (line 4)) (0.18.10)\n",
      "Requirement already satisfied: docopt>=0.6.2 in ./.venv/lib/python3.10/site-packages (from pykwalify->-r requirements.txt (line 4)) (0.6.2)\n",
      "Requirement already satisfied: ruamel.yaml.clib>=0.2.7 in ./.venv/lib/python3.10/site-packages (from ruamel.yaml>=0.16.0->pykwalify->-r requirements.txt (line 4)) (0.2.12)\n",
      "\u001b[33mWARNING: There was an error checking the latest version of pip.\u001b[0m\u001b[33m\n",
      "\u001b[0mProcessing /home/Jlisowskyy/Storage/Repos/pyradiomics-CUDA\n",
      "  Installing build dependencies ... \u001b[?25ldone\n",
      "\u001b[?25h  Getting requirements to build wheel ... \u001b[?25ldone\n",
      "\u001b[?25h  Preparing metadata (pyproject.toml) ... \u001b[?25ldone\n",
      "\u001b[?25hRequirement already satisfied: six in ./.venv/lib/python3.10/site-packages (from pyradiomics==3.1.1) (1.17.0)\n",
      "Requirement already satisfied: PyWavelets in ./.venv/lib/python3.10/site-packages (from pyradiomics==3.1.1) (1.8.0)\n",
      "Requirement already satisfied: SimpleITK in ./.venv/lib/python3.10/site-packages (from pyradiomics==3.1.1) (2.4.1)\n",
      "Requirement already satisfied: pykwalify in ./.venv/lib/python3.10/site-packages (from pyradiomics==3.1.1) (1.8.0)\n",
      "Requirement already satisfied: numpy in ./.venv/lib/python3.10/site-packages (from pyradiomics==3.1.1) (2.2.4)\n",
      "Requirement already satisfied: ruamel.yaml>=0.16.0 in ./.venv/lib/python3.10/site-packages (from pykwalify->pyradiomics==3.1.1) (0.18.10)\n",
      "Requirement already satisfied: docopt>=0.6.2 in ./.venv/lib/python3.10/site-packages (from pykwalify->pyradiomics==3.1.1) (0.6.2)\n",
      "Requirement already satisfied: python-dateutil>=2.8.0 in ./.venv/lib/python3.10/site-packages (from pykwalify->pyradiomics==3.1.1) (2.9.0.post0)\n",
      "Requirement already satisfied: ruamel.yaml.clib>=0.2.7 in ./.venv/lib/python3.10/site-packages (from ruamel.yaml>=0.16.0->pykwalify->pyradiomics==3.1.1) (0.2.12)\n",
      "Building wheels for collected packages: pyradiomics\n",
      "  Building wheel for pyradiomics (pyproject.toml) ... \u001b[?25ldone\n",
      "\u001b[?25h  Created wheel for pyradiomics: filename=pyradiomics-3.1.1-cp310-cp310-linux_x86_64.whl size=206272 sha256=d7b90a7f746da157074fd87d803742255121770215c72a271a5490ff5e1afb65\n",
      "  Stored in directory: /tmp/pip-ephem-wheel-cache-8vdgmp3p/wheels/e8/f1/db/cf7879603dfcc6eeb5c5da561d2974d85e8e32e051b2e93ae6\n",
      "Successfully built pyradiomics\n",
      "Installing collected packages: pyradiomics\n",
      "  Attempting uninstall: pyradiomics\n",
      "    Found existing installation: pyradiomics 3.1.1\n",
      "    Uninstalling pyradiomics-3.1.1:\n",
      "      Successfully uninstalled pyradiomics-3.1.1\n",
      "Successfully installed pyradiomics-3.1.1\n",
      "\n",
      "\u001b[1m[\u001b[0m\u001b[34;49mnotice\u001b[0m\u001b[1;39;49m]\u001b[0m\u001b[39;49m A new release of pip is available: \u001b[0m\u001b[31;49m23.0.1\u001b[0m\u001b[39;49m -> \u001b[0m\u001b[32;49m25.0.1\u001b[0m\n",
      "\u001b[1m[\u001b[0m\u001b[34;49mnotice\u001b[0m\u001b[1;39;49m]\u001b[0m\u001b[39;49m To update, run: \u001b[0m\u001b[32;49mpip install --upgrade pip\u001b[0m\n",
      "Found nvcc at: /opt/cuda/bin/nvcc\n",
      "Found CUDA library directory based on nvcc path: /opt/cuda/lib64\n",
      "NVCC_FLAGS environment variable not set or empty. Using default nvcc options.\n",
      "/home/Jlisowskyy/Storage/Repos/pyradiomics-CUDA/.venv/lib/python3.10/site-packages/setuptools/config/_apply_pyprojecttoml.py:196: UserWarning: `install_requires` overwritten in `pyproject.toml` (dependencies)\n",
      "  warnings.warn(msg)\n",
      "running build_ext\n",
      "Found nvcc at: /opt/cuda/bin/nvcc\n",
      "Pre-compiling CUDA sources for extension radiomics.cuda...\n",
      "Running nvcc command: /opt/cuda/bin/nvcc -c radiomics/src/cuda/cshape.cu -o build/temp.linux-x86_64-cpython-310/radiomics.cuda/cshape.o -I radiomics/src/cuda -I /home/Jlisowskyy/Storage/Repos/pyradiomics-CUDA/.venv/include -I /usr/include/python3.10 -Xcompiler=-fPIC -O3\n",
      "nvcc stderr:\n",
      "nvcc warning : Support for offline compilation for architectures prior to '<compute/sm/lto>_75' will be removed in a future release (Use -Wno-deprecated-gpu-targets to suppress warning).\n",
      "\n",
      "Running nvcc command: /opt/cuda/bin/nvcc -c radiomics/src/cuda/implementations/diameter_change_implementation.cu -o build/temp.linux-x86_64-cpython-310/radiomics.cuda/diameter_change_implementation.o -I radiomics/src/cuda -I /home/Jlisowskyy/Storage/Repos/pyradiomics-CUDA/.venv/include -I /usr/include/python3.10 -Xcompiler=-fPIC -O3\n",
      "nvcc stderr:\n",
      "nvcc warning : Support for offline compilation for architectures prior to '<compute/sm/lto>_75' will be removed in a future release (Use -Wno-deprecated-gpu-targets to suppress warning).\n",
      "\n",
      "Running nvcc command: /opt/cuda/bin/nvcc -c radiomics/src/cuda/implementations/basic_implementation.cu -o build/temp.linux-x86_64-cpython-310/radiomics.cuda/basic_implementation.o -I radiomics/src/cuda -I /home/Jlisowskyy/Storage/Repos/pyradiomics-CUDA/.venv/include -I /usr/include/python3.10 -Xcompiler=-fPIC -O3\n",
      "nvcc stderr:\n",
      "nvcc warning : Support for offline compilation for architectures prior to '<compute/sm/lto>_75' will be removed in a future release (Use -Wno-deprecated-gpu-targets to suppress warning).\n",
      "\n",
      "Proceeding with standard build process for remaining sources and linking...\n"
     ]
    }
   ],
   "source": [
    "\n",
    "import os\n",
    "import logging\n",
    "os.environ['BUILD_CUDA_EXTENSIONS'] = '1'\n",
    "!python3.10 -m pip install -r requirements.txt\n",
    "# !python3.10 setup.py install\n",
    "!python3.10 -m     pip install . --no-cache-dir\n",
    "!python3.10 setup.py build_ext --inplace\n",
    "\n",
    "from __future__ import print_function\n",
    "import sys\n",
    "import os\n",
    "import logging\n",
    "import six\n"
   ]
  },
  {
   "cell_type": "code",
   "execution_count": 4,
   "metadata": {},
   "outputs": [
    {
     "name": "stdout",
     "output_type": "stream",
     "text": [
      "nvcc: NVIDIA (R) Cuda compiler driver\n",
      "Copyright (c) 2005-2025 NVIDIA Corporation\n",
      "Built on Fri_Feb_21_20:23:50_PST_2025\n",
      "Cuda compilation tools, release 12.8, V12.8.93\n",
      "Build cuda_12.8.r12.8/compiler.35583870_0\n"
     ]
    }
   ],
   "source": [
    "!nvcc --version"
   ]
  },
  {
   "cell_type": "code",
   "execution_count": 6,
   "metadata": {},
   "outputs": [
    {
     "name": "stderr",
     "output_type": "stream",
     "text": [
      "Error loading C extensions\n",
      "Traceback (most recent call last):\n",
      "  File \"/home/Jlisowskyy/Storage/Repos/pyradiomics-CUDA/.venv/lib/python3.10/site-packages/radiomics/__init__.py\", line 287, in <module>\n",
      "    from radiomics import _cshape as cShape  # noqa: F401\n",
      "ImportError: /home/Jlisowskyy/Storage/Repos/pyradiomics-CUDA/.venv/lib/python3.10/site-packages/radiomics/_cshape.cpython-310-x86_64-linux-gnu.so: undefined symbol: cuda_calculate_coefficients\n",
      "Error loading C extensions\n",
      "Traceback (most recent call last):\n",
      "  File \"/home/Jlisowskyy/Storage/Repos/pyradiomics-CUDA/.venv/lib/python3.10/site-packages/radiomics/__init__.py\", line 287, in <module>\n",
      "    from radiomics import _cshape as cShape  # noqa: F401\n",
      "ImportError: /home/Jlisowskyy/Storage/Repos/pyradiomics-CUDA/.venv/lib/python3.10/site-packages/radiomics/_cshape.cpython-310-x86_64-linux-gnu.so: undefined symbol: cuda_calculate_coefficients\n"
     ]
    },
    {
     "name": "stdout",
     "output_type": "stream",
     "text": [
      "Current working directory: /home/Jlisowskyy/Storage/Repos/pyradiomics-CUDA\n",
      "Current working directory after change: /home/Jlisowskyy/Storage/Repos/pyradiomics-CUDA/radiomics/cuda/biecek_test\n",
      "Files in current directory: ['.gitignore', 'masks.nii.gz', '2d_extractor_config.json', 'testImportat.ipynb', 'scan.nii.gz', 'extractor_config.json', '__init__.py']\n"
     ]
    },
    {
     "ename": "ImportError",
     "evalue": "/home/Jlisowskyy/Storage/Repos/pyradiomics-CUDA/.venv/lib/python3.10/site-packages/radiomics/_cshape.cpython-310-x86_64-linux-gnu.so: undefined symbol: cuda_calculate_coefficients",
     "output_type": "error",
     "traceback": [
      "\u001b[0;31m---------------------------------------------------------------------------\u001b[0m",
      "\u001b[0;31mImportError\u001b[0m                               Traceback (most recent call last)",
      "Cell \u001b[0;32mIn[6], line 7\u001b[0m\n\u001b[1;32m      4\u001b[0m \u001b[38;5;28mprint\u001b[39m(\u001b[38;5;124m\"\u001b[39m\u001b[38;5;124mCurrent working directory after change:\u001b[39m\u001b[38;5;124m\"\u001b[39m, os\u001b[38;5;241m.\u001b[39mgetcwd())\n\u001b[1;32m      5\u001b[0m \u001b[38;5;28mprint\u001b[39m(\u001b[38;5;124m\"\u001b[39m\u001b[38;5;124mFiles in current directory:\u001b[39m\u001b[38;5;124m\"\u001b[39m, os\u001b[38;5;241m.\u001b[39mlistdir())\n\u001b[0;32m----> 7\u001b[0m \u001b[38;5;28;01mfrom\u001b[39;00m\u001b[38;5;250m \u001b[39m\u001b[38;5;21;01mradiomics\u001b[39;00m\u001b[38;5;21;01m.\u001b[39;00m\u001b[38;5;21;01mfeatureextractor\u001b[39;00m\u001b[38;5;250m \u001b[39m\u001b[38;5;28;01mimport\u001b[39;00m RadiomicsFeatureExtractor\n",
      "File \u001b[0;32m~/Storage/Repos/pyradiomics-CUDA/.venv/lib/python3.10/site-packages/radiomics/__init__.py:297\u001b[0m\n\u001b[1;32m    295\u001b[0m   \u001b[38;5;28;01melse\u001b[39;00m:\n\u001b[1;32m    296\u001b[0m     logger\u001b[38;5;241m.\u001b[39mcritical(\u001b[38;5;124m'\u001b[39m\u001b[38;5;124mError loading C extensions\u001b[39m\u001b[38;5;124m'\u001b[39m, exc_info\u001b[38;5;241m=\u001b[39m\u001b[38;5;28;01mTrue\u001b[39;00m)\n\u001b[0;32m--> 297\u001b[0m     \u001b[38;5;28;01mraise\u001b[39;00m e\n\u001b[1;32m    299\u001b[0m \u001b[38;5;66;03m# 4. Enumerate implemented feature classes and input image types available in PyRadiomics\u001b[39;00m\n\u001b[1;32m    300\u001b[0m _featureClasses \u001b[38;5;241m=\u001b[39m \u001b[38;5;28;01mNone\u001b[39;00m\n",
      "File \u001b[0;32m~/Storage/Repos/pyradiomics-CUDA/.venv/lib/python3.10/site-packages/radiomics/__init__.py:287\u001b[0m\n\u001b[1;32m    285\u001b[0m \u001b[38;5;28;01mtry\u001b[39;00m:\n\u001b[1;32m    286\u001b[0m   \u001b[38;5;28;01mfrom\u001b[39;00m\u001b[38;5;250m \u001b[39m\u001b[38;5;21;01mradiomics\u001b[39;00m\u001b[38;5;250m \u001b[39m\u001b[38;5;28;01mimport\u001b[39;00m _cmatrices \u001b[38;5;28;01mas\u001b[39;00m cMatrices  \u001b[38;5;66;03m# noqa: F401\u001b[39;00m\n\u001b[0;32m--> 287\u001b[0m   \u001b[38;5;28;01mfrom\u001b[39;00m\u001b[38;5;250m \u001b[39m\u001b[38;5;21;01mradiomics\u001b[39;00m\u001b[38;5;250m \u001b[39m\u001b[38;5;28;01mimport\u001b[39;00m _cshape \u001b[38;5;28;01mas\u001b[39;00m cShape  \u001b[38;5;66;03m# noqa: F401\u001b[39;00m\n\u001b[1;32m    288\u001b[0m \u001b[38;5;28;01mexcept\u001b[39;00m \u001b[38;5;167;01mImportError\u001b[39;00m \u001b[38;5;28;01mas\u001b[39;00m e:\n\u001b[1;32m    289\u001b[0m   \u001b[38;5;28;01mif\u001b[39;00m os\u001b[38;5;241m.\u001b[39mpath\u001b[38;5;241m.\u001b[39misdir(os\u001b[38;5;241m.\u001b[39mpath\u001b[38;5;241m.\u001b[39mjoin(os\u001b[38;5;241m.\u001b[39mpath\u001b[38;5;241m.\u001b[39mdirname(\u001b[38;5;18m__file__\u001b[39m), \u001b[38;5;124m'\u001b[39m\u001b[38;5;124m..\u001b[39m\u001b[38;5;124m'\u001b[39m, \u001b[38;5;124m'\u001b[39m\u001b[38;5;124mdata\u001b[39m\u001b[38;5;124m'\u001b[39m)):\n\u001b[1;32m    290\u001b[0m     \u001b[38;5;66;03m# It looks like PyRadiomics is run from source (in which case \"setup.py develop\" must have been run)\u001b[39;00m\n",
      "\u001b[0;31mImportError\u001b[0m: /home/Jlisowskyy/Storage/Repos/pyradiomics-CUDA/.venv/lib/python3.10/site-packages/radiomics/_cshape.cpython-310-x86_64-linux-gnu.so: undefined symbol: cuda_calculate_coefficients"
     ]
    }
   ],
   "source": [
    "import os\n",
    "print(\"Current working directory:\", os.getcwd())\n",
    "os.chdir('radiomics/cuda/biecek_test')\n",
    "print(\"Current working directory after change:\", os.getcwd())\n",
    "print(\"Files in current directory:\", os.listdir())\n",
    "\n",
    "from radiomics.featureextractor import RadiomicsFeatureExtractor"
   ]
  },
  {
   "cell_type": "code",
   "execution_count": null,
   "metadata": {},
   "outputs": [],
   "source": [
    "extractor = RadiomicsFeatureExtractor()\n",
    "extractor.loadParams(CONFIG_PATH)"
   ]
  },
  {
   "cell_type": "code",
   "execution_count": null,
   "metadata": {},
   "outputs": [],
   "source": [
    "features = {}\n",
    "for val, name in LABEL_MAPPING.items():\n",
    "    features[name] = extractor.execute(SCAN_PATH, MASK_PATH, val)\n",
    "    "
   ]
  },
  {
   "cell_type": "code",
   "execution_count": null,
   "metadata": {},
   "outputs": [],
   "source": [
    "# print(features)"
   ]
  },
  {
   "cell_type": "code",
   "execution_count": null,
   "metadata": {},
   "outputs": [],
   "source": [
    "# print(\"Files in current directory:\", os.listdir())\n",
    "print(\"Directories in data folder:\", [d for d in os.listdir('data') if os.path.isdir(os.path.join('data', d))])"
   ]
  },
  {
   "cell_type": "code",
   "execution_count": null,
   "metadata": {},
   "outputs": [],
   "source": [
    "from radiomics.cuda.helpers.shape_class_handlers import load_shape_class\n",
    "\n",
    "\n",
    "d = load_shape_class('2025-03-29_23-02-27')\n",
    "print(d)"
   ]
  },
  {
   "cell_type": "code",
   "execution_count": null,
   "metadata": {},
   "outputs": [],
   "source": [
    "# print(d)\n",
    "from radiomics import  cShape, cShapeCpu\n",
    "\n",
    "a, b, c = cShape.calculate_coefficients(d['mask_array'], d['pixel_spacing'])\n",
    "print(a, b, c)\n"
   ]
  }
 ],
 "metadata": {
  "kernelspec": {
   "display_name": "Python 3 (ipykernel)",
   "language": "python",
   "name": "python3"
  },
  "language_info": {
   "codemirror_mode": {
    "name": "ipython",
    "version": 3
   },
   "file_extension": ".py",
   "mimetype": "text/x-python",
   "name": "python",
   "nbconvert_exporter": "python",
   "pygments_lexer": "ipython3",
   "version": "3.10.16"
  }
 },
 "nbformat": 4,
 "nbformat_minor": 2
}
