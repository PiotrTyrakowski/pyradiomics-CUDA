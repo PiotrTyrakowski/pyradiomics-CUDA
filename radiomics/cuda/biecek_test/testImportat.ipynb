{
 "cells": [
  {
   "cell_type": "code",
   "execution_count": 1,
   "metadata": {},
   "outputs": [],
   "source": [
    "LABEL_MAPPING = {\n",
    "    1: \"aorta\",\n",
    "    2: \"left_lung\",\n",
    "    3: \"right_lung\",\n",
    "    4: \"trachea\",\n",
    "    5: \"pulmonary_artery\",\n",
    "}\n",
    "MASK_PATH = \"./masks.nii.gz\"\n",
    "SCAN_PATH = \"./scan.nii.gz\"\n",
    "CONFIG_PATH = \"./extractor_config.json\""
   ]
  },
  {
   "cell_type": "code",
   "execution_count": 2,
   "metadata": {},
   "outputs": [
    {
     "name": "stdout",
     "output_type": "stream",
     "text": [
      "Defaulting to user installation because normal site-packages is not writeable\n",
      "Requirement already satisfied: numpy in /home/verscup/.local/lib/python3.10/site-packages (from -r requirements.txt (line 1)) (2.2.4)\n",
      "Requirement already satisfied: SimpleITK in /home/verscup/.local/lib/python3.10/site-packages (from -r requirements.txt (line 2)) (2.4.1)\n",
      "Requirement already satisfied: PyWavelets in /home/verscup/.local/lib/python3.10/site-packages (from -r requirements.txt (line 3)) (1.8.0)\n",
      "Requirement already satisfied: pykwalify in /home/verscup/.local/lib/python3.10/site-packages (from -r requirements.txt (line 4)) (1.8.0)\n",
      "Requirement already satisfied: six in /usr/lib/python3/dist-packages (from -r requirements.txt (line 5)) (1.16.0)\n",
      "Requirement already satisfied: docopt>=0.6.2 in /home/verscup/.local/lib/python3.10/site-packages (from pykwalify->-r requirements.txt (line 4)) (0.6.2)\n",
      "Requirement already satisfied: python-dateutil>=2.8.0 in /usr/lib/python3/dist-packages (from pykwalify->-r requirements.txt (line 4)) (2.8.2)\n",
      "Requirement already satisfied: ruamel.yaml>=0.16.0 in /home/verscup/.local/lib/python3.10/site-packages (from pykwalify->-r requirements.txt (line 4)) (0.18.10)\n",
      "Requirement already satisfied: ruamel.yaml.clib>=0.2.7 in /home/verscup/.local/lib/python3.10/site-packages (from ruamel.yaml>=0.16.0->pykwalify->-r requirements.txt (line 4)) (0.2.12)\n",
      "/home/verscup/.local/lib/python3.10/site-packages/setuptools/config/_apply_pyprojecttoml.py:79: SetuptoolsWarning: `install_requires` overwritten in `pyproject.toml` (dependencies)\n",
      "  corresp(dist, value, root_dir)\n",
      "running install\n",
      "/home/verscup/.local/lib/python3.10/site-packages/setuptools/_distutils/cmd.py:66: SetuptoolsDeprecationWarning: setup.py install is deprecated.\n",
      "!!\n",
      "\n",
      "        ********************************************************************************\n",
      "        Please avoid running ``setup.py`` directly.\n",
      "        Instead, use pypa/build, pypa/installer or other\n",
      "        standards-based tools.\n",
      "\n",
      "        See https://blog.ganssle.io/articles/2021/10/setup-py-deprecated.html for details.\n",
      "        ********************************************************************************\n",
      "\n",
      "!!\n",
      "  self.initialize_options()\n",
      "/home/verscup/.local/lib/python3.10/site-packages/setuptools/_distutils/cmd.py:66: EasyInstallDeprecationWarning: easy_install command is deprecated.\n",
      "!!\n",
      "\n",
      "        ********************************************************************************\n",
      "        Please avoid running ``setup.py`` and ``easy_install``.\n",
      "        Instead, use pypa/build, pypa/installer or other\n",
      "        standards-based tools.\n",
      "\n",
      "        See https://github.com/pypa/setuptools/issues/917 for details.\n",
      "        ********************************************************************************\n",
      "\n",
      "!!\n",
      "  self.initialize_options()\n",
      "error: can't create or remove files in install directory\n",
      "\n",
      "The following error occurred while trying to add or remove files in the\n",
      "installation directory:\n",
      "\n",
      "    [Errno 13] Permission denied: '/usr/local/lib/python3.10/dist-packages/test-easy-install-47885.write-test'\n",
      "\n",
      "The installation directory you specified (via --install-dir, --prefix, or\n",
      "the distutils default setting) was:\n",
      "\n",
      "    /usr/local/lib/python3.10/dist-packages/\n",
      "\n",
      "Perhaps your account does not have write access to this directory?  If the\n",
      "installation directory is a system-owned directory, you may need to sign in\n",
      "as the administrator or \"root\" account.  If you do not have administrative\n",
      "access to this machine, you may wish to choose a different installation\n",
      "directory, preferably one that is listed in your PYTHONPATH environment\n",
      "variable.\n",
      "\n",
      "For information on other options, you may wish to consult the\n",
      "documentation at:\n",
      "\n",
      "  https://setuptools.pypa.io/en/latest/deprecated/easy_install.html\n",
      "\n",
      "Please make the appropriate changes for your system and try again.\n",
      "\n",
      "/home/verscup/.local/lib/python3.10/site-packages/setuptools/config/_apply_pyprojecttoml.py:79: SetuptoolsWarning: `install_requires` overwritten in `pyproject.toml` (dependencies)\n",
      "  corresp(dist, value, root_dir)\n",
      "running build_ext\n",
      "copying build/lib.linux-x86_64-cpython-310/radiomics/_cmatrices.cpython-310-x86_64-linux-gnu.so -> radiomics\n",
      "copying build/lib.linux-x86_64-cpython-310/radiomics/_cshape.cpython-310-x86_64-linux-gnu.so -> radiomics\n",
      "copying build/lib.linux-x86_64-cpython-310/radiomics/cuda/_cmatrices.cpython-310-x86_64-linux-gnu.so -> radiomics/cuda\n",
      "copying build/lib.linux-x86_64-cpython-310/radiomics/cuda/_cshape.cpython-310-x86_64-linux-gnu.so -> radiomics/cuda\n"
     ]
    }
   ],
   "source": [
    "\n",
    " !python3.10 -m pip install -r requirements.txt\n",
    "!python3.10 setup.py install\n",
    "!python3.10 setup.py build_ext --inplace\n",
    "from __future__ import print_function\n",
    "import sys\n",
    "import os\n",
    "import logging\n",
    "import six\n"
   ]
  },
  {
   "cell_type": "code",
   "execution_count": 3,
   "metadata": {},
   "outputs": [
    {
     "name": "stdout",
     "output_type": "stream",
     "text": [
      "Current working directory: /home/verscup/pyradiomics-CUDA\n",
      "Current working directory after change: /home/verscup/pyradiomics-CUDA/radiomics/cuda/biecek_test\n",
      "Files in current directory: ['testImportat.ipynb', 'scan.nii.gz', 'extractor_config.json', 'masks.nii.gz']\n"
     ]
    }
   ],
   "source": [
    "from radiomics.featureextractor import RadiomicsFeatureExtractor\n",
    "import os\n",
    "print(\"Current working directory:\", os.getcwd())\n",
    "os.chdir('radiomics/cuda/biecek_test')\n",
    "print(\"Current working directory after change:\", os.getcwd())\n",
    "print(\"Files in current directory:\", os.listdir())"
   ]
  },
  {
   "cell_type": "code",
   "execution_count": 4,
   "metadata": {},
   "outputs": [],
   "source": [
    "extractor = RadiomicsFeatureExtractor()\n",
    "extractor.loadParams(CONFIG_PATH)"
   ]
  },
  {
   "cell_type": "markdown",
   "metadata": {},
   "source": []
  },
  {
   "cell_type": "code",
   "execution_count": null,
   "metadata": {},
   "outputs": [],
   "source": []
  },
  {
   "cell_type": "code",
   "execution_count": 5,
   "metadata": {},
   "outputs": [],
   "source": [
    "features = {}\n",
    "for val, name in LABEL_MAPPING.items():\n",
    "    features[name] = extractor.execute(SCAN_PATH, MASK_PATH, val)"
   ]
  }
 ],
 "metadata": {
  "kernelspec": {
   "display_name": "Python 3 (ipykernel)",
   "language": "python",
   "name": "python3"
  },
  "language_info": {
   "codemirror_mode": {
    "name": "ipython",
    "version": 3
   },
   "file_extension": ".py",
   "mimetype": "text/x-python",
   "name": "python",
   "nbconvert_exporter": "python",
   "pygments_lexer": "ipython3",
   "version": "3.10.16"
  }
 },
 "nbformat": 4,
 "nbformat_minor": 2
}
