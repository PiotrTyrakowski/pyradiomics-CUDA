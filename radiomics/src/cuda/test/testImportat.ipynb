{
 "cells": [
  {
   "cell_type": "code",
   "execution_count": null,
   "metadata": {},
   "outputs": [],
   "source": [
    "LABEL_MAPPING = {\n",
    "    1: \"aorta\",\n",
    "    2: \"left_lung\",\n",
    "    3: \"right_lung\",\n",
    "    4: \"trachea\",\n",
    "    5: \"pulmonary_artery\",\n",
    "}\n",
    "MASK_PATH = \"radiomics/src/cuda/data/masks.nii.gz\"\n",
    "SCAN_PATH = \"radiomics/src/cuda/data/scan.nii.gz\"\n",
    "CONFIG_PATH = \"radiomics/src/cuda/data/extractor_config.json\""
   ]
  },
  {
   "cell_type": "code",
   "execution_count": null,
   "metadata": {
    "jupyter": {
     "is_executing": true
    }
   },
   "outputs": [],
   "source": [
    "\n",
    "!python3.10 -m pip install -r requirements.txt\n",
    "!python3.10 -m     pip install . --no-cache-dir\n",
    "!python3.10 setup.py build_ext --inplace"
   ]
  },
  {
   "cell_type": "code",
   "execution_count": null,
   "metadata": {},
   "outputs": [],
   "source": [
    "from radiomics.featureextractor import RadiomicsFeatureExtractor\n",
    "import os"
   ]
  },
  {
   "cell_type": "code",
   "execution_count": null,
   "metadata": {},
   "outputs": [],
   "source": [
    "extractor = RadiomicsFeatureExtractor()\n",
    "extractor.loadParams(CONFIG_PATH)"
   ]
  },
  {
   "cell_type": "code",
   "execution_count": null,
   "metadata": {},
   "outputs": [],
   "source": [
    "features = {}\n",
    "for val, name in LABEL_MAPPING.items():\n",
    "    features[name] = extractor.execute(SCAN_PATH, MASK_PATH, val)"
   ]
  },
  {
   "cell_type": "code",
   "execution_count": null,
   "metadata": {},
   "outputs": [],
   "source": [
    "print(\"Directories in data folder:\", [d for d in os.listdir('data') if os.path.isdir(os.path.join('data', d))])"
   ]
  },
  {
   "cell_type": "code",
   "execution_count": null,
   "metadata": {},
   "outputs": [],
   "source": [
    "import shape_class_handlers\n",
    "d = shape_class_handlers.load_shape_class('2025-04-05_15-45-17')"
   ]
  },
  {
   "cell_type": "code",
   "execution_count": null,
   "metadata": {},
   "outputs": [],
   "source": [
    "from radiomics import cShape\n",
    "\n",
    "a, b, c = cShape.calculate_coefficients(d['mask_array'], d['pixel_spacing'])\n",
    "print(a, b, c)"
   ]
  }
 ],
 "metadata": {
  "kernelspec": {
   "display_name": "Python 3 (ipykernel)",
   "language": "python",
   "name": "python3"
  },
  "language_info": {
   "codemirror_mode": {
    "name": "ipython",
    "version": 3
   },
   "file_extension": ".py",
   "mimetype": "text/x-python",
   "name": "python",
   "nbconvert_exporter": "python",
   "pygments_lexer": "ipython3",
   "version": "3.10.16"
  }
 },
 "nbformat": 4,
 "nbformat_minor": 2
}
